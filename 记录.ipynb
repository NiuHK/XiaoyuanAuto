{
 "cells": [
  {
   "cell_type": "markdown",
   "metadata": {},
   "source": [
    " pip install --upgrade setuptools\n",
    " pip install numpy Matplotlib\n",
    " pip install opencv-python"
   ]
  },
  {
   "cell_type": "markdown",
   "metadata": {},
   "source": [
    "adb shell getprop ro.product.cpu.abi\n",
    "adb shell getprop ro.build.version.sdk\n",
    "\n",
    "\n",
    "将minicup 传到手机上，并赋权限777\n",
    "(保存在bin文件夹了)\n",
    "adb push bin/x86_64/minicap /data/local/tmp\n",
    "adb push bin/api34/minicap.so /data/local/tmp\n",
    "adb shell chmod 777 /data/local/tmp/minicap\n",
    "adb shell chmod 777 /data/local/tmp/minicap.so\n",
    "测试是否可运行：adb shell LD_LIBRARY_PATH=/data/local/tmp /data/local/tmp/minicap -P 1080x2160@1080x2160/0 -t"
   ]
  },
  {
   "cell_type": "markdown",
   "metadata": {},
   "source": [
    "启动服务，已嵌入自动化\n",
    "adb shell LD_LIBRARY_PATH=/data/local/tmp /data/local/tmp/minicap -P 1080x2400@1080x2400/0 \n",
    "端口映射，手动，还未嵌入\n",
    "\n",
    "\n",
    "adb forward tcp:1717 localabstract:minicap"
   ]
  },
  {
   "cell_type": "code",
   "execution_count": 1,
   "metadata": {},
   "outputs": [
    {
     "name": "stdout",
     "output_type": "stream",
     "text": [
      "OrderedDict([('version', 1), ('length', 24), ('pid', 30277), ('realWidth', 1080), ('realHeight', 2400), ('virtualWidth', 1080), ('virtualHeight', 2400), ('orientation', 0), ('quirks', 2)])\n",
      "---------------------[Execution] service initialized----------------------\n",
      "                  若仍然无minicap推流，尝试撤销usb调试授权重新打开\n",
      " Best match value: 0.9376628398895264\n",
      "程序执行时间为: 3.5038652420043945 秒\n"
     ]
    }
   ],
   "source": [
    "from libs.execution import Execution\n",
    "from time import sleep\n",
    "import numpy as np\n",
    "import time\n",
    "process = Execution()\n",
    "\n",
    "start_time = time.time()\n",
    "\n",
    "\n",
    "process.click_point(*process.wait_templete(\"assests/xiaoyuan/4.png\",0.8,print_info=True))\n",
    "# process.wait_color((57, 117),2,2,'#f9b842',print_info=True)\n",
    "# process.click_point(*process.find_templete(\"assests/xiaoyuan/2.png\",0.8,print_info=True))\n",
    "# process.find_templete(\"assests/xiaoyuan/1.png\",0.8,print_info=True)\n",
    "# > \n",
    "# process.swipe((555, 1447) , (687, 1525), 40)\n",
    "# process.swipe( (687, 1525) ,(555, 1725) , 40)\n",
    "\n",
    "# <\n",
    "# process.swipe((687, 1447) , (555, 1525), 40)\n",
    "# process.swipe( (555, 1525) ,(687, 1725) , 40)\n",
    "\n",
    "\n",
    "# process.wait_color((72, 142),2,2,'#f9e34c',print_info=True)\n",
    "\n",
    "end_time = time.time()\n",
    "execution_time = end_time - start_time\n",
    "print(f\"程序执行时间为: {execution_time} 秒\")\n"
   ]
  },
  {
   "cell_type": "markdown",
   "metadata": {},
   "source": [
    ".\\scrcpy.exe -v           \n",
    "adb push scrcpy-server /data/local/tmp/scrcpy-server-manual.jar     \n",
    "adb forward tcp:1234 localabstract:scrcpy  \n",
    "\n",
    "adb shell CLASSPATH=/data/local/tmp/scrcpy-server-manual.jar app_process / com.genymobile.scrcpy.Server 2.7 tunnel_forward=true audio=false control=false cleanup=false raw_stream=true max_size=1920\n",
    "\n",
    "\n",
    "\n",
    "ffplay -flags low_delay -vf setpts=0 -f h264 tcp://localhost:1234\n",
    "\n",
    "\n",
    "问题:接收流初始化太慢,且有一点延迟"
   ]
  },
  {
   "cell_type": "markdown",
   "metadata": {},
   "source": [
    "MUUMU模拟器准备:\n",
    "adb kill-server\n",
    "\n",
    "　　adb connect 127.0.0.1:5555\n",
    "\n",
    "　　adb root\n",
    "\n",
    "　　adb connect 127.0.0.1:5555\n",
    "\n",
    "　　adb push xxxx.0 /system/etc/security/cacerts\n",
    "\n",
    "　　adb shell \"chmod 664 /system/etc/security/cacerts/d0c556f7.0\""
   ]
  },
  {
   "cell_type": "markdown",
   "metadata": {},
   "source": []
  }
 ],
 "metadata": {
  "kernelspec": {
   "display_name": "Python 3",
   "language": "python",
   "name": "python3"
  },
  "language_info": {
   "codemirror_mode": {
    "name": "ipython",
    "version": 3
   },
   "file_extension": ".py",
   "mimetype": "text/x-python",
   "name": "python",
   "nbconvert_exporter": "python",
   "pygments_lexer": "ipython3",
   "version": "3.8.20"
  }
 },
 "nbformat": 4,
 "nbformat_minor": 2
}
